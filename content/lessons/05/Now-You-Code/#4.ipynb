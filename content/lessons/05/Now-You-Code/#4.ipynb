{
 "cells": [
  {
   "cell_type": "code",
   "execution_count": null,
   "metadata": {
    "collapsed": false
   },
   "outputs": [
    {
     "name": "stdout",
     "output_type": "stream",
     "text": [
      "Enter a number between 1 and 100: pizza\n",
      "Please enter a valid number between 1 and 100\n"
     ]
    }
   ],
   "source": [
    "number = 0\n",
    "times = 0\n",
    "\n",
    "while number != 66:\n",
    "    try:\n",
    "        number = int(input(\"Enter a number between 1 and 100: \"))\n",
    "        times = times + 1\n",
    "        if number < 66:\n",
    "            print(\"The number you entered is lower than the desired number. Please try again: \")\n",
    "\n",
    "        if number > 66:\n",
    "            print(\"The number you entered is higher than the desired number. Please try again.\")\n",
    "\n",
    "        if number == 66:\n",
    "            print((\"Congrats the number is 66. You guessed it right in %d tries\") % (times))\n",
    "\n",
    "        if number <= 0 or number > 100:\n",
    "            print(\"Please enter a valid number between 1 and 100\")\n",
    "    except ValueError:\n",
    "        print(\"Please enter a valid number between 1 and 100\")\n",
    "        "
   ]
  },
  {
   "cell_type": "code",
   "execution_count": null,
   "metadata": {
    "collapsed": true
   },
   "outputs": [],
   "source": []
  }
 ],
 "metadata": {
  "kernelspec": {
   "display_name": "Python 3",
   "language": "python",
   "name": "python3"
  }
 },
 "nbformat": 4,
 "nbformat_minor": 2
}

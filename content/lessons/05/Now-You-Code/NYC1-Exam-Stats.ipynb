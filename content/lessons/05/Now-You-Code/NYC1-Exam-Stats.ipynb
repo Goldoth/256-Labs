{
 "cells": [
  {
   "cell_type": "markdown",
   "metadata": {},
   "source": [
    "# Now You Code 1: Exam Stats\n",
    "\n",
    "Write a program to input exam scores (out of 100) until you enter 'quit'. After you finish entering exam scores the program will print out the average of all the exam scores.\n",
    "\n",
    "**HINTS:** \n",
    "\n",
    "- To figure out the average you must keep a running total of exam scores and a count of the number entered.\n",
    "- Try to make the program work 1 time, then figure out the exit condition and use a while True: loop.\n",
    "\n",
    "Example Run:\n",
    "\n",
    "```\n",
    "Enter exam score or type 'quit': 100\n",
    "Enter exam score or type 'quit': 100\n",
    "Enter exam score or type 'quit': 50\n",
    "Enter exam score or type 'quit': quit\n",
    "Number of scores 3. Average is 83.33\n",
    "```"
   ]
  },
  {
   "cell_type": "code",
   "execution_count": null,
   "metadata": {
    "collapsed": true
   },
   "outputs": [],
   "source": [
    "#Write TODO list here\n",
    "#variable for count\n",
    "#get a working average\n",
    "#exit condition when quit is entered\n",
    "#while loop"
   ]
  },
  {
   "cell_type": "code",
   "execution_count": null,
   "metadata": {
    "collapsed": false
   },
   "outputs": [
    {
     "name": "stdout",
     "output_type": "stream",
     "text": [
      "Enter an exam score or type 'quit' to quit this program: 56\n",
      "56 1 56.0\n",
      "Enter an exam score or type 'quit' to quit this program: 78\n",
      "134 2 67.0\n",
      "Enter an exam score or type 'quit' to quit this program: 98\n",
      "232 3 77.33333333333333\n",
      "Enter an exam score or type 'quit' to quit this program: quit\n",
      "Number of scores: 3. The average of these scores is: 77.33\n"
     ]
    }
   ],
   "source": [
    "times = 0\n",
    "number = 0\n",
    "count = 0\n",
    "\n",
    "while number != 'quit':\n",
    "    try:\n",
    "\n",
    "        for i in range(5):\n",
    "            number = int(input(\"Enter an exam score or type 'quit' to quit this program: \"))\n",
    "            times = times +1\n",
    "            count += number\n",
    "            average = float(count / times)\n",
    "\n",
    "    except ValueError:\n",
    "        print((\"Number of scores: %d. The average of these scores is: %.2f\") % (times, average))\n",
    "\n"
   ]
  },
  {
   "cell_type": "code",
   "execution_count": null,
   "metadata": {
    "collapsed": true
   },
   "outputs": [],
   "source": []
  },
  {
   "cell_type": "code",
   "execution_count": null,
   "metadata": {
    "collapsed": true
   },
   "outputs": [],
   "source": []
  }
 ],
 "metadata": {
  "anaconda-cloud": {},
  "kernelspec": {
   "display_name": "Python 3",
   "language": "python",
   "name": "python3"
  },
  "language_info": {
   "codemirror_mode": {
    "name": "ipython",
    "version": 3
   },
   "file_extension": ".py",
   "mimetype": "text/x-python",
   "name": "python",
   "nbconvert_exporter": "python",
   "pygments_lexer": "ipython3",
   "version": "3.5.2"
  }
 },
 "nbformat": 4,
 "nbformat_minor": 0
}

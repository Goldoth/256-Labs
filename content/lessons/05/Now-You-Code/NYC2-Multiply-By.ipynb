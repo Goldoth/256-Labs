{
 "cells": [
  {
   "cell_type": "markdown",
   "metadata": {},
   "source": [
    "# Now You Code 2: Multiply By\n",
    "\n",
    "Write a program to ask for a number to multiply by and then lists the multiplication table for that number from 1 to 10. This process will repeat until you enter quit as which point the program will exit.\n",
    "\n",
    "Example Run:\n",
    "\n",
    "```\n",
    "Enter number to multiply by or type 'quit': 10\n",
    "1 x 10 = 10\n",
    "2 x 10 = 20\n",
    "3 x 10 = 30\n",
    "4 x 10 = 40\n",
    "5 x 10 = 50\n",
    "6 x 10 = 60\n",
    "7 x 10 = 70\n",
    "8 x 10 = 80\n",
    "9 x 10 = 90\n",
    "10 x 10 = 100\n",
    "Enter number to multiply by or type 'quit': 5\n",
    "1 x 5 = 5\n",
    "2 x 5 = 10\n",
    "3 x 5 = 15\n",
    "4 x 5 = 20\n",
    "5 x 5 = 25\n",
    "6 x 5 = 30\n",
    "7 x 5 = 35\n",
    "8 x 5 = 40\n",
    "9 x 5 = 45\n",
    "10 x 5 = 50\n",
    "Enter number to multiply by or type 'quit': quit\n",
    "```\n",
    "\n",
    "**NOTE:** you need two loops to complete this program. You'll need an indefinite loop to process the input, and a definite loop to print the multiplication table. We suggest starting out by getting the program to work once and then figuring out the exit condition for the indefinite loop. "
   ]
  },
  {
   "cell_type": "code",
   "execution_count": 1,
   "metadata": {
    "collapsed": true
   },
   "outputs": [],
   "source": [
    "#Write TODO list here\n",
    "#enter a number \n"
   ]
  },
  {
   "cell_type": "code",
   "execution_count": 1,
   "metadata": {
    "collapsed": false
   },
   "outputs": [
    {
     "name": "stdout",
     "output_type": "stream",
     "text": [
      "Enter a number to multiply or enter 'quit' to quit this program: 6\n",
      "1 x 6 = 6\n",
      "2 x 6 = 12\n",
      "3 x 6 = 18\n",
      "4 x 6 = 24\n",
      "5 x 6 = 30\n",
      "6 x 6 = 36\n",
      "7 x 6 = 42\n",
      "8 x 6 = 48\n",
      "9 x 6 = 54\n",
      "10 x 6 = 60\n",
      "Enter a number to multiply or enter 'quit' to quit this program: 7\n",
      "1 x 7 = 7\n",
      "2 x 7 = 14\n",
      "3 x 7 = 21\n",
      "4 x 7 = 28\n",
      "5 x 7 = 35\n",
      "6 x 7 = 42\n",
      "7 x 7 = 49\n",
      "8 x 7 = 56\n",
      "9 x 7 = 63\n",
      "10 x 7 = 70\n",
      "Enter a number to multiply or enter 'quit' to quit this program: quit\n"
     ]
    }
   ],
   "source": [
    "number = 0\n",
    "\n",
    "while number != 'quit':\n",
    "    try:\n",
    "        for i in range(5):\n",
    "            number = int(input(\"Enter a number to multiply or enter 'quit' to quit this program: \"))\n",
    "            num1 = int(number * 1)\n",
    "            num2 = int(number * 2)\n",
    "            num3 = int(number * 3)\n",
    "            num4 = int(number * 4)\n",
    "            num5 = int(number * 5)\n",
    "            num6 = int(number * 6)\n",
    "            num7 = int(number * 7)\n",
    "            num8 = int(number * 8)\n",
    "            num9 = int(number * 9)\n",
    "            num10 = int(number *10)\n",
    "            print((\"1 x %d = %d\") % (number, num1))\n",
    "            print((\"2 x %d = %d\") % (number, num2))\n",
    "            print((\"3 x %d = %d\") % (number, num3))\n",
    "            print((\"4 x %d = %d\") % (number, num4))\n",
    "            print((\"5 x %d = %d\") % (number, num5))\n",
    "            print((\"6 x %d = %d\") % (number, num6))\n",
    "            print((\"7 x %d = %d\") % (number, num7))\n",
    "            print((\"8 x %d = %d\") % (number, num8))\n",
    "            print((\"9 x %d = %d\") % (number, num9))\n",
    "            print((\"10 x %d = %d\") % (number, num10))\n",
    "            \n",
    "    except ValueError:\n",
    "        break"
   ]
  },
  {
   "cell_type": "code",
   "execution_count": null,
   "metadata": {
    "collapsed": true
   },
   "outputs": [],
   "source": []
  }
 ],
 "metadata": {
  "anaconda-cloud": {},
  "kernelspec": {
   "display_name": "Python 3",
   "language": "python",
   "name": "python3"
  },
  "language_info": {
   "codemirror_mode": {
    "name": "ipython",
    "version": 3
   },
   "file_extension": ".py",
   "mimetype": "text/x-python",
   "name": "python",
   "nbconvert_exporter": "python",
   "pygments_lexer": "ipython3",
   "version": "3.5.2"
  }
 },
 "nbformat": 4,
 "nbformat_minor": 0
}

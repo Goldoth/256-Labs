{
 "cells": [
  {
   "cell_type": "markdown",
   "metadata": {},
   "source": [
    "# Now You Code 1: Check Splitter\n",
    "\n",
    "Write a Python program which splits up a restaurant check. It first prompts you to input the total amount of your check, then the number of people dining. It should then output the amout each diner must contribute to the check.  For example:\n",
    "\n",
    "```\n",
    "*** Check Splitter ***\n",
    "How much is the amount of the check? 100.00\n",
    "How many people ? 6\n",
    "Each person owes: $16.67\n",
    "```\n",
    "\n",
    "NOTE: Use string formatters to display the output to two decimal places.\n",
    "\n",
    "\n",
    "Start out your program by writing your TODO list of steps you'll need to solve the problems."
   ]
  },
  {
   "cell_type": "code",
   "execution_count": 9,
   "metadata": {
    "collapsed": false
   },
   "outputs": [
    {
     "name": "stdout",
     "output_type": "stream",
     "text": [
      "What is the total amount of the check:121.64\n",
      "How many people are splitting the check:3\n",
      "The cost per person is $ 40.54666666666667\n"
     ]
    }
   ],
   "source": [
    "#TODO List here\n",
    "cost =float(input(\"What is the total amount of the check:\"))\n",
    "people =int(input(\"How many people are splitting the check:\"))\n",
    "costpp =float(cost/people)\n",
    "print(\"The cost per person is $\",costpp)\n",
    "\n"
   ]
  },
  {
   "cell_type": "code",
   "execution_count": null,
   "metadata": {
    "collapsed": true
   },
   "outputs": [],
   "source": [
    "# Code here\n"
   ]
  }
 ],
 "metadata": {
  "anaconda-cloud": {},
  "kernelspec": {
   "display_name": "Python 3",
   "language": "python",
   "name": "python3"
  },
  "language_info": {
   "codemirror_mode": {
    "name": "ipython",
    "version": 3
   },
   "file_extension": ".py",
   "mimetype": "text/x-python",
   "name": "python",
   "nbconvert_exporter": "python",
   "pygments_lexer": "ipython3",
   "version": "3.5.2"
  }
 },
 "nbformat": 4,
 "nbformat_minor": 0
}

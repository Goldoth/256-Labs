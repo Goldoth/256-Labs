{
 "cells": [
  {
   "cell_type": "code",
   "execution_count": 7,
   "metadata": {
    "collapsed": false
   },
   "outputs": [
    {
     "name": "stdout",
     "output_type": "stream",
     "text": [
      "Please enter a distance in feet here:564123546546\n",
      "The distance you entered is equivalent to 188041182182.0 yards or 106841580.8 miles\n"
     ]
    }
   ],
   "source": [
    "distance = float(input(\"Please enter a distance in feet here:\"))             \n",
    "yards = float(distance / 3)\n",
    "miles = float(distance / 5280)\n",
    "print((\"The distance you entered is equivalent to %.1f yards or %.1f miles\") % (yards, miles))"
   ]
  },
  {
   "cell_type": "code",
   "execution_count": null,
   "metadata": {
    "collapsed": true
   },
   "outputs": [],
   "source": []
  }
 ],
 "metadata": {
  "kernelspec": {
   "display_name": "Python 3",
   "language": "python",
   "name": "python3"
  },
  "language_info": {
   "codemirror_mode": {
    "name": "ipython",
    "version": 3
   },
   "file_extension": ".py",
   "mimetype": "text/x-python",
   "name": "python",
   "nbconvert_exporter": "python",
   "pygments_lexer": "ipython3",
   "version": "3.5.2"
  }
 },
 "nbformat": 4,
 "nbformat_minor": 2
}

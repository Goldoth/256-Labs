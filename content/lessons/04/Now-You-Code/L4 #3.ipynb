{
 "cells": [
  {
   "cell_type": "code",
   "execution_count": 14,
   "metadata": {
    "collapsed": false
   },
   "outputs": [
    {
     "name": "stdout",
     "output_type": "stream",
     "text": [
      "IST 256 Grade Calculator\n",
      "Please enter your total points out of 600 for the course: 546\n",
      "With a total of 546 points your grade in the class is a: A-\n"
     ]
    }
   ],
   "source": [
    "##TODO\n",
    "##allow for point value input\n",
    "##if else and elif statements to determine grade\n",
    "##try and except statements to handle bad input\n",
    "##points should be entered as integers\n",
    "\n",
    "try:\n",
    "    print(\"IST 256 Grade Calculator\")\n",
    "    points = int(input(\"Please enter your total points out of 600 for the course: \"))\n",
    "    if points <= 299:\n",
    "            print((\"With a total of %d points your grade in the class is an: F\") % (points))\n",
    "            ## using %d in line to call points for a correct value\n",
    "    elif 300 <= points <= 359:\n",
    "            print((\"With a total of %d points your grade in the class is a: D\") % (points))\n",
    "            ##creating a range with <= to allow all point values within the range to return an answer\n",
    "    elif 360 <= points <= 389:\n",
    "            print((\"With a total of %d points your grade in the class is a: C-\") % (points))\n",
    "    elif 390 <= points <= 419:\n",
    "            print((\"With a total of %d points your grade in the class is a: C\") % (points))\n",
    "    elif 420 <= points <= 449:\n",
    "            print((\"With a total of %d points your grade in the class is a: C+\") % (points))\n",
    "    elif 450 <= points <= 479:\n",
    "            print((\"With a total of %d points your grade in the class is a: B-\") % (points))\n",
    "    elif 480 <= points <= 509:\n",
    "            print((\"With a total of %d points your grade in the class is a: B\") % (points))\n",
    "    elif 510 <= points <= 539:\n",
    "            print((\"With a total of %d points your grade in the class is a: B+\") % (points))\n",
    "    elif 540 <= points <= 569:\n",
    "            print((\"With a total of %d points your grade in the class is a: A-\") % (points))\n",
    "    elif 570 <= points <= 600:\n",
    "            print((\"With a total of %d points your grade in the class is a: A\") % (points))\n",
    "    else:\n",
    "            print(\"Please enter a valid point total between 0 and 600\")\n",
    "except ValueError:\n",
    "        print(\"That is not a valid score, please enter an integer value between 0 and 600\")\n",
    "\n",
    "##the try and except statements handle inputs other than integers for the variable points\n",
    "\n",
    "\n",
    "\n",
    "\n",
    "\n"
   ]
  },
  {
   "cell_type": "code",
   "execution_count": null,
   "metadata": {
    "collapsed": true
   },
   "outputs": [],
   "source": []
  },
  {
   "cell_type": "code",
   "execution_count": null,
   "metadata": {
    "collapsed": true
   },
   "outputs": [],
   "source": []
  }
 ],
 "metadata": {
  "kernelspec": {
   "display_name": "Python 3",
   "language": "python",
   "name": "python3"
  },
  "language_info": {
   "codemirror_mode": {
    "name": "ipython",
    "version": 3
   },
   "file_extension": ".py",
   "mimetype": "text/x-python",
   "name": "python",
   "nbconvert_exporter": "python",
   "pygments_lexer": "ipython3",
   "version": "3.5.2"
  }
 },
 "nbformat": 4,
 "nbformat_minor": 2
}

{
 "cells": [
  {
   "cell_type": "markdown",
   "metadata": {},
   "source": [
    "# Now You Code 1: Vote or Retire?\n",
    "\n",
    "Write a program to ask for your age as input, then output whether or not you can vote and whether your not you can retire. Let's assume the voting age is 18 or higher, and the retirement age is 65 or higher.\n",
    "\n",
    "**NOTE:** This program is making two seprate decisions, and thus should have two separate if else statements.\n",
    "\n",
    "Example Run:\n",
    "\n",
    "```\n",
    "Enter your age: 45\n",
    "You can vote.\n",
    "You cannot retire.\n",
    "```\n",
    "\n",
    "After you get that working, surround your code with `try... except` so that the program handles bad input:\n",
    "\n",
    "Example run:\n",
    "\n",
    "```\n",
    "Enter your age: threve\n",
    "That's not an age!\n",
    "```\n",
    "\n",
    "Start out the program by writing your initial todo list (without the `try...except`)"
   ]
  },
  {
   "cell_type": "code",
   "execution_count": null,
   "metadata": {
    "collapsed": true
   },
   "outputs": [],
   "source": [
    "##TODO List\n",
    "## input for entering age\n",
    "## if statement to determince if age is over 18\n",
    "## include statement for over 65 retiring\n",
    "## create a statement for bad input\n"
   ]
  },
  {
   "cell_type": "code",
   "execution_count": 5,
   "metadata": {
    "collapsed": false
   },
   "outputs": [
    {
     "name": "stdout",
     "output_type": "stream",
     "text": [
      "Please enter your age: pizza\n",
      "Please enter a valid input for age!\n"
     ]
    }
   ],
   "source": [
    "try:\n",
    "    ##try handles the intial attempt at an input\n",
    "    ##if a valid input is not given the except statement will print\n",
    "    age = int(input(\"Please enter your age: \"))\n",
    "    print((\"You are %d years old.\") % (age))\n",
    "    if age < 18:\n",
    "        print(\"You are not old enough to vote.\")\n",
    "    elif age >= 18:\n",
    "        print(\"You can vote!\")\n",
    "    if age < 65:\n",
    "        print(\"You are not old enough to retire yet.\")\n",
    "        ##there was an issue with entering 65 where the line you can retire would not print\n",
    "        ##for reasons unknow to me making this an if statement fixes it\n",
    "    elif age >= 65:\n",
    "        print(\"You can Retire!\")\n",
    "except ValueError:\n",
    "    print(\"Please enter a valid input for age!\")\n",
    "    ##ensures that a int value is entered for age\n",
    "    ##if a string or float value is entered this print line will execute"
   ]
  },
  {
   "cell_type": "code",
   "execution_count": null,
   "metadata": {
    "collapsed": true
   },
   "outputs": [],
   "source": []
  }
 ],
 "metadata": {
  "anaconda-cloud": {},
  "kernelspec": {
   "display_name": "Python 3",
   "language": "python",
   "name": "python3"
  },
  "language_info": {
   "codemirror_mode": {
    "name": "ipython",
    "version": 3
   },
   "file_extension": ".py",
   "mimetype": "text/x-python",
   "name": "python",
   "nbconvert_exporter": "python",
   "pygments_lexer": "ipython3",
   "version": "3.5.2"
  }
 },
 "nbformat": 4,
 "nbformat_minor": 0
}
